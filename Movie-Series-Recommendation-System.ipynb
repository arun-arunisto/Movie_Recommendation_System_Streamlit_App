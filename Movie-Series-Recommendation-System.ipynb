{
 "cells": [
  {
   "cell_type": "code",
   "execution_count": 15,
   "id": "01a8778a-60fd-4c09-ab03-1ca496ecfc43",
   "metadata": {},
   "outputs": [],
   "source": [
    "import pandas as pd\n",
    "import numpy as np"
   ]
  },
  {
   "cell_type": "code",
   "execution_count": 16,
   "id": "352033ac-c814-4aec-abf9-55647bee1707",
   "metadata": {},
   "outputs": [],
   "source": [
    "movies_n_series = pd.read_csv(\"TMDB_Movies_TV.csv\")"
   ]
  },
  {
   "cell_type": "code",
   "execution_count": 17,
   "id": "65d7a913-d132-40e7-ab11-778ac71051ff",
   "metadata": {},
   "outputs": [
    {
     "data": {
      "text/html": [
       "<div>\n",
       "<style scoped>\n",
       "    .dataframe tbody tr th:only-of-type {\n",
       "        vertical-align: middle;\n",
       "    }\n",
       "\n",
       "    .dataframe tbody tr th {\n",
       "        vertical-align: top;\n",
       "    }\n",
       "\n",
       "    .dataframe thead th {\n",
       "        text-align: right;\n",
       "    }\n",
       "</style>\n",
       "<table border=\"1\" class=\"dataframe\">\n",
       "  <thead>\n",
       "    <tr style=\"text-align: right;\">\n",
       "      <th></th>\n",
       "      <th>Unnamed: 0</th>\n",
       "      <th>id</th>\n",
       "      <th>original_language</th>\n",
       "      <th>title</th>\n",
       "      <th>overview</th>\n",
       "      <th>genre</th>\n",
       "      <th>keywords</th>\n",
       "      <th>cast</th>\n",
       "      <th>crew</th>\n",
       "    </tr>\n",
       "  </thead>\n",
       "  <tbody>\n",
       "    <tr>\n",
       "      <th>0</th>\n",
       "      <td>0</td>\n",
       "      <td>298618</td>\n",
       "      <td>en</td>\n",
       "      <td>The Flash</td>\n",
       "      <td>['When', 'his', 'attempt', 'to', 'save', 'his'...</td>\n",
       "      <td>['Action', 'Adventure', 'Science Fiction']</td>\n",
       "      <td>['secret identity', 'hero', 'superhero', 'base...</td>\n",
       "      <td>['Ezra Miller', 'Sasha Calle', 'Michael Keaton...</td>\n",
       "      <td>['Andy Muschietti']</td>\n",
       "    </tr>\n",
       "    <tr>\n",
       "      <th>1</th>\n",
       "      <td>1</td>\n",
       "      <td>346698</td>\n",
       "      <td>en</td>\n",
       "      <td>Barbie</td>\n",
       "      <td>['Barbie', 'and', 'Ken', 'are', 'having', 'the...</td>\n",
       "      <td>['Comedy', 'Adventure', 'Fantasy']</td>\n",
       "      <td>['feminism', 'patriarchy', 'satire', 'based on...</td>\n",
       "      <td>['Margot Robbie', 'Ryan Gosling', 'Issa Rae', ...</td>\n",
       "      <td>['Greta Gerwig']</td>\n",
       "    </tr>\n",
       "    <tr>\n",
       "      <th>2</th>\n",
       "      <td>2</td>\n",
       "      <td>667538</td>\n",
       "      <td>en</td>\n",
       "      <td>Transformers: Rise of the Beasts</td>\n",
       "      <td>['When', 'a', 'new', 'threat', 'capable', 'of'...</td>\n",
       "      <td>['Action', 'Adventure', 'Science Fiction']</td>\n",
       "      <td>['peru', 'alien', 'end of the world', 'based o...</td>\n",
       "      <td>['Anthony Ramos', 'Dominique Fishback', 'Peter...</td>\n",
       "      <td>['Steven Caple Jr.']</td>\n",
       "    </tr>\n",
       "    <tr>\n",
       "      <th>3</th>\n",
       "      <td>3</td>\n",
       "      <td>385687</td>\n",
       "      <td>en</td>\n",
       "      <td>Fast X</td>\n",
       "      <td>['Over', 'many', 'missions', 'and', 'against',...</td>\n",
       "      <td>['Action', 'Crime', 'Thriller']</td>\n",
       "      <td>['sequel', 'revenge', 'racing', 'family', 'cars']</td>\n",
       "      <td>['Vin Diesel', 'Michelle Rodriguez', 'Tyrese G...</td>\n",
       "      <td>['Louis Leterrier']</td>\n",
       "    </tr>\n",
       "    <tr>\n",
       "      <th>4</th>\n",
       "      <td>4</td>\n",
       "      <td>872585</td>\n",
       "      <td>en</td>\n",
       "      <td>Oppenheimer</td>\n",
       "      <td>['The', 'story', 'of', 'J.', 'Robert', 'Oppenh...</td>\n",
       "      <td>['Drama', 'History']</td>\n",
       "      <td>['based on novel or book', 'husband wife relat...</td>\n",
       "      <td>['Cillian Murphy', 'Emily Blunt', 'Matt Damon'...</td>\n",
       "      <td>['Christopher Nolan']</td>\n",
       "    </tr>\n",
       "  </tbody>\n",
       "</table>\n",
       "</div>"
      ],
      "text/plain": [
       "   Unnamed: 0      id original_language                             title  \\\n",
       "0           0  298618                en                         The Flash   \n",
       "1           1  346698                en                            Barbie   \n",
       "2           2  667538                en  Transformers: Rise of the Beasts   \n",
       "3           3  385687                en                            Fast X   \n",
       "4           4  872585                en                       Oppenheimer   \n",
       "\n",
       "                                            overview  \\\n",
       "0  ['When', 'his', 'attempt', 'to', 'save', 'his'...   \n",
       "1  ['Barbie', 'and', 'Ken', 'are', 'having', 'the...   \n",
       "2  ['When', 'a', 'new', 'threat', 'capable', 'of'...   \n",
       "3  ['Over', 'many', 'missions', 'and', 'against',...   \n",
       "4  ['The', 'story', 'of', 'J.', 'Robert', 'Oppenh...   \n",
       "\n",
       "                                        genre  \\\n",
       "0  ['Action', 'Adventure', 'Science Fiction']   \n",
       "1          ['Comedy', 'Adventure', 'Fantasy']   \n",
       "2  ['Action', 'Adventure', 'Science Fiction']   \n",
       "3             ['Action', 'Crime', 'Thriller']   \n",
       "4                        ['Drama', 'History']   \n",
       "\n",
       "                                            keywords  \\\n",
       "0  ['secret identity', 'hero', 'superhero', 'base...   \n",
       "1  ['feminism', 'patriarchy', 'satire', 'based on...   \n",
       "2  ['peru', 'alien', 'end of the world', 'based o...   \n",
       "3  ['sequel', 'revenge', 'racing', 'family', 'cars']   \n",
       "4  ['based on novel or book', 'husband wife relat...   \n",
       "\n",
       "                                                cast                   crew  \n",
       "0  ['Ezra Miller', 'Sasha Calle', 'Michael Keaton...    ['Andy Muschietti']  \n",
       "1  ['Margot Robbie', 'Ryan Gosling', 'Issa Rae', ...       ['Greta Gerwig']  \n",
       "2  ['Anthony Ramos', 'Dominique Fishback', 'Peter...   ['Steven Caple Jr.']  \n",
       "3  ['Vin Diesel', 'Michelle Rodriguez', 'Tyrese G...    ['Louis Leterrier']  \n",
       "4  ['Cillian Murphy', 'Emily Blunt', 'Matt Damon'...  ['Christopher Nolan']  "
      ]
     },
     "execution_count": 17,
     "metadata": {},
     "output_type": "execute_result"
    }
   ],
   "source": [
    "movies_n_series.head()"
   ]
  },
  {
   "cell_type": "code",
   "execution_count": 18,
   "id": "9221793c-8f59-4d92-94b1-c11d2d8f56e0",
   "metadata": {},
   "outputs": [],
   "source": [
    "movies_n_series.rename(columns={'id': 'mov_ser_id'}, inplace=True) #column rename using pandas rename function"
   ]
  },
  {
   "cell_type": "code",
   "execution_count": 19,
   "id": "c3ce7c14-483d-4913-89d9-9355c42673e5",
   "metadata": {},
   "outputs": [
    {
     "data": {
      "text/html": [
       "<div>\n",
       "<style scoped>\n",
       "    .dataframe tbody tr th:only-of-type {\n",
       "        vertical-align: middle;\n",
       "    }\n",
       "\n",
       "    .dataframe tbody tr th {\n",
       "        vertical-align: top;\n",
       "    }\n",
       "\n",
       "    .dataframe thead th {\n",
       "        text-align: right;\n",
       "    }\n",
       "</style>\n",
       "<table border=\"1\" class=\"dataframe\">\n",
       "  <thead>\n",
       "    <tr style=\"text-align: right;\">\n",
       "      <th></th>\n",
       "      <th>Unnamed: 0</th>\n",
       "      <th>mov_ser_id</th>\n",
       "      <th>original_language</th>\n",
       "      <th>title</th>\n",
       "      <th>overview</th>\n",
       "      <th>genre</th>\n",
       "      <th>keywords</th>\n",
       "      <th>cast</th>\n",
       "      <th>crew</th>\n",
       "    </tr>\n",
       "  </thead>\n",
       "  <tbody>\n",
       "    <tr>\n",
       "      <th>0</th>\n",
       "      <td>0</td>\n",
       "      <td>298618</td>\n",
       "      <td>en</td>\n",
       "      <td>The Flash</td>\n",
       "      <td>['When', 'his', 'attempt', 'to', 'save', 'his'...</td>\n",
       "      <td>['Action', 'Adventure', 'Science Fiction']</td>\n",
       "      <td>['secret identity', 'hero', 'superhero', 'base...</td>\n",
       "      <td>['Ezra Miller', 'Sasha Calle', 'Michael Keaton...</td>\n",
       "      <td>['Andy Muschietti']</td>\n",
       "    </tr>\n",
       "    <tr>\n",
       "      <th>1</th>\n",
       "      <td>1</td>\n",
       "      <td>346698</td>\n",
       "      <td>en</td>\n",
       "      <td>Barbie</td>\n",
       "      <td>['Barbie', 'and', 'Ken', 'are', 'having', 'the...</td>\n",
       "      <td>['Comedy', 'Adventure', 'Fantasy']</td>\n",
       "      <td>['feminism', 'patriarchy', 'satire', 'based on...</td>\n",
       "      <td>['Margot Robbie', 'Ryan Gosling', 'Issa Rae', ...</td>\n",
       "      <td>['Greta Gerwig']</td>\n",
       "    </tr>\n",
       "    <tr>\n",
       "      <th>2</th>\n",
       "      <td>2</td>\n",
       "      <td>667538</td>\n",
       "      <td>en</td>\n",
       "      <td>Transformers: Rise of the Beasts</td>\n",
       "      <td>['When', 'a', 'new', 'threat', 'capable', 'of'...</td>\n",
       "      <td>['Action', 'Adventure', 'Science Fiction']</td>\n",
       "      <td>['peru', 'alien', 'end of the world', 'based o...</td>\n",
       "      <td>['Anthony Ramos', 'Dominique Fishback', 'Peter...</td>\n",
       "      <td>['Steven Caple Jr.']</td>\n",
       "    </tr>\n",
       "    <tr>\n",
       "      <th>3</th>\n",
       "      <td>3</td>\n",
       "      <td>385687</td>\n",
       "      <td>en</td>\n",
       "      <td>Fast X</td>\n",
       "      <td>['Over', 'many', 'missions', 'and', 'against',...</td>\n",
       "      <td>['Action', 'Crime', 'Thriller']</td>\n",
       "      <td>['sequel', 'revenge', 'racing', 'family', 'cars']</td>\n",
       "      <td>['Vin Diesel', 'Michelle Rodriguez', 'Tyrese G...</td>\n",
       "      <td>['Louis Leterrier']</td>\n",
       "    </tr>\n",
       "    <tr>\n",
       "      <th>4</th>\n",
       "      <td>4</td>\n",
       "      <td>872585</td>\n",
       "      <td>en</td>\n",
       "      <td>Oppenheimer</td>\n",
       "      <td>['The', 'story', 'of', 'J.', 'Robert', 'Oppenh...</td>\n",
       "      <td>['Drama', 'History']</td>\n",
       "      <td>['based on novel or book', 'husband wife relat...</td>\n",
       "      <td>['Cillian Murphy', 'Emily Blunt', 'Matt Damon'...</td>\n",
       "      <td>['Christopher Nolan']</td>\n",
       "    </tr>\n",
       "  </tbody>\n",
       "</table>\n",
       "</div>"
      ],
      "text/plain": [
       "   Unnamed: 0  mov_ser_id original_language                             title  \\\n",
       "0           0      298618                en                         The Flash   \n",
       "1           1      346698                en                            Barbie   \n",
       "2           2      667538                en  Transformers: Rise of the Beasts   \n",
       "3           3      385687                en                            Fast X   \n",
       "4           4      872585                en                       Oppenheimer   \n",
       "\n",
       "                                            overview  \\\n",
       "0  ['When', 'his', 'attempt', 'to', 'save', 'his'...   \n",
       "1  ['Barbie', 'and', 'Ken', 'are', 'having', 'the...   \n",
       "2  ['When', 'a', 'new', 'threat', 'capable', 'of'...   \n",
       "3  ['Over', 'many', 'missions', 'and', 'against',...   \n",
       "4  ['The', 'story', 'of', 'J.', 'Robert', 'Oppenh...   \n",
       "\n",
       "                                        genre  \\\n",
       "0  ['Action', 'Adventure', 'Science Fiction']   \n",
       "1          ['Comedy', 'Adventure', 'Fantasy']   \n",
       "2  ['Action', 'Adventure', 'Science Fiction']   \n",
       "3             ['Action', 'Crime', 'Thriller']   \n",
       "4                        ['Drama', 'History']   \n",
       "\n",
       "                                            keywords  \\\n",
       "0  ['secret identity', 'hero', 'superhero', 'base...   \n",
       "1  ['feminism', 'patriarchy', 'satire', 'based on...   \n",
       "2  ['peru', 'alien', 'end of the world', 'based o...   \n",
       "3  ['sequel', 'revenge', 'racing', 'family', 'cars']   \n",
       "4  ['based on novel or book', 'husband wife relat...   \n",
       "\n",
       "                                                cast                   crew  \n",
       "0  ['Ezra Miller', 'Sasha Calle', 'Michael Keaton...    ['Andy Muschietti']  \n",
       "1  ['Margot Robbie', 'Ryan Gosling', 'Issa Rae', ...       ['Greta Gerwig']  \n",
       "2  ['Anthony Ramos', 'Dominique Fishback', 'Peter...   ['Steven Caple Jr.']  \n",
       "3  ['Vin Diesel', 'Michelle Rodriguez', 'Tyrese G...    ['Louis Leterrier']  \n",
       "4  ['Cillian Murphy', 'Emily Blunt', 'Matt Damon'...  ['Christopher Nolan']  "
      ]
     },
     "execution_count": 19,
     "metadata": {},
     "output_type": "execute_result"
    }
   ],
   "source": [
    "movies_n_series.head()"
   ]
  },
  {
   "cell_type": "code",
   "execution_count": 20,
   "id": "f058b32c-82e5-4c21-a4b4-94d40eed7ba9",
   "metadata": {},
   "outputs": [
    {
     "data": {
      "text/plain": [
       "original_language\n",
       "en    5712\n",
       "hi    2990\n",
       "ta    1972\n",
       "ja    1901\n",
       "ml    1535\n",
       "      ... \n",
       "ks       1\n",
       "ky       1\n",
       "ne       1\n",
       "am       1\n",
       "lt       1\n",
       "Name: count, Length: 68, dtype: int64"
      ]
     },
     "execution_count": 20,
     "metadata": {},
     "output_type": "execute_result"
    }
   ],
   "source": [
    "movies_n_series['original_language'].value_counts() #to count the values of data in a column"
   ]
  },
  {
   "cell_type": "code",
   "execution_count": 21,
   "id": "8f53dfda-5446-4712-b546-64714f3fb0ec",
   "metadata": {},
   "outputs": [
    {
     "name": "stdout",
     "output_type": "stream",
     "text": [
      "<class 'pandas.core.frame.DataFrame'>\n",
      "RangeIndex: 20000 entries, 0 to 19999\n",
      "Data columns (total 9 columns):\n",
      " #   Column             Non-Null Count  Dtype \n",
      "---  ------             --------------  ----- \n",
      " 0   Unnamed: 0         20000 non-null  int64 \n",
      " 1   mov_ser_id         20000 non-null  int64 \n",
      " 2   original_language  20000 non-null  object\n",
      " 3   title              20000 non-null  object\n",
      " 4   overview           20000 non-null  object\n",
      " 5   genre              20000 non-null  object\n",
      " 6   keywords           20000 non-null  object\n",
      " 7   cast               20000 non-null  object\n",
      " 8   crew               20000 non-null  object\n",
      "dtypes: int64(2), object(7)\n",
      "memory usage: 1.4+ MB\n"
     ]
    }
   ],
   "source": [
    "movies_n_series.info() # to get the details of coulmns data type and other informations"
   ]
  },
  {
   "cell_type": "code",
   "execution_count": 22,
   "id": "99149c21-0b72-4b85-9664-3fe4771cc21c",
   "metadata": {},
   "outputs": [],
   "source": [
    "# genre\n",
    "# mov_ser_id\n",
    "# keywords\n",
    "# title\n",
    "# overview\n",
    "# cast \n",
    "# crew\n",
    "# we are going to take out only essential columns for our dataset\n",
    "movies_n_series = movies_n_series[['mov_ser_id', 'title', 'overview', 'genre', 'keywords', 'cast', 'crew']]"
   ]
  },
  {
   "cell_type": "code",
   "execution_count": 23,
   "id": "6d2cd69f-fa4d-44f8-a990-fd2e2589bee1",
   "metadata": {},
   "outputs": [
    {
     "data": {
      "text/html": [
       "<div>\n",
       "<style scoped>\n",
       "    .dataframe tbody tr th:only-of-type {\n",
       "        vertical-align: middle;\n",
       "    }\n",
       "\n",
       "    .dataframe tbody tr th {\n",
       "        vertical-align: top;\n",
       "    }\n",
       "\n",
       "    .dataframe thead th {\n",
       "        text-align: right;\n",
       "    }\n",
       "</style>\n",
       "<table border=\"1\" class=\"dataframe\">\n",
       "  <thead>\n",
       "    <tr style=\"text-align: right;\">\n",
       "      <th></th>\n",
       "      <th>mov_ser_id</th>\n",
       "      <th>title</th>\n",
       "      <th>overview</th>\n",
       "      <th>genre</th>\n",
       "      <th>keywords</th>\n",
       "      <th>cast</th>\n",
       "      <th>crew</th>\n",
       "    </tr>\n",
       "  </thead>\n",
       "  <tbody>\n",
       "    <tr>\n",
       "      <th>0</th>\n",
       "      <td>298618</td>\n",
       "      <td>The Flash</td>\n",
       "      <td>['When', 'his', 'attempt', 'to', 'save', 'his'...</td>\n",
       "      <td>['Action', 'Adventure', 'Science Fiction']</td>\n",
       "      <td>['secret identity', 'hero', 'superhero', 'base...</td>\n",
       "      <td>['Ezra Miller', 'Sasha Calle', 'Michael Keaton...</td>\n",
       "      <td>['Andy Muschietti']</td>\n",
       "    </tr>\n",
       "    <tr>\n",
       "      <th>1</th>\n",
       "      <td>346698</td>\n",
       "      <td>Barbie</td>\n",
       "      <td>['Barbie', 'and', 'Ken', 'are', 'having', 'the...</td>\n",
       "      <td>['Comedy', 'Adventure', 'Fantasy']</td>\n",
       "      <td>['feminism', 'patriarchy', 'satire', 'based on...</td>\n",
       "      <td>['Margot Robbie', 'Ryan Gosling', 'Issa Rae', ...</td>\n",
       "      <td>['Greta Gerwig']</td>\n",
       "    </tr>\n",
       "    <tr>\n",
       "      <th>2</th>\n",
       "      <td>667538</td>\n",
       "      <td>Transformers: Rise of the Beasts</td>\n",
       "      <td>['When', 'a', 'new', 'threat', 'capable', 'of'...</td>\n",
       "      <td>['Action', 'Adventure', 'Science Fiction']</td>\n",
       "      <td>['peru', 'alien', 'end of the world', 'based o...</td>\n",
       "      <td>['Anthony Ramos', 'Dominique Fishback', 'Peter...</td>\n",
       "      <td>['Steven Caple Jr.']</td>\n",
       "    </tr>\n",
       "    <tr>\n",
       "      <th>3</th>\n",
       "      <td>385687</td>\n",
       "      <td>Fast X</td>\n",
       "      <td>['Over', 'many', 'missions', 'and', 'against',...</td>\n",
       "      <td>['Action', 'Crime', 'Thriller']</td>\n",
       "      <td>['sequel', 'revenge', 'racing', 'family', 'cars']</td>\n",
       "      <td>['Vin Diesel', 'Michelle Rodriguez', 'Tyrese G...</td>\n",
       "      <td>['Louis Leterrier']</td>\n",
       "    </tr>\n",
       "    <tr>\n",
       "      <th>4</th>\n",
       "      <td>872585</td>\n",
       "      <td>Oppenheimer</td>\n",
       "      <td>['The', 'story', 'of', 'J.', 'Robert', 'Oppenh...</td>\n",
       "      <td>['Drama', 'History']</td>\n",
       "      <td>['based on novel or book', 'husband wife relat...</td>\n",
       "      <td>['Cillian Murphy', 'Emily Blunt', 'Matt Damon'...</td>\n",
       "      <td>['Christopher Nolan']</td>\n",
       "    </tr>\n",
       "  </tbody>\n",
       "</table>\n",
       "</div>"
      ],
      "text/plain": [
       "   mov_ser_id                             title  \\\n",
       "0      298618                         The Flash   \n",
       "1      346698                            Barbie   \n",
       "2      667538  Transformers: Rise of the Beasts   \n",
       "3      385687                            Fast X   \n",
       "4      872585                       Oppenheimer   \n",
       "\n",
       "                                            overview  \\\n",
       "0  ['When', 'his', 'attempt', 'to', 'save', 'his'...   \n",
       "1  ['Barbie', 'and', 'Ken', 'are', 'having', 'the...   \n",
       "2  ['When', 'a', 'new', 'threat', 'capable', 'of'...   \n",
       "3  ['Over', 'many', 'missions', 'and', 'against',...   \n",
       "4  ['The', 'story', 'of', 'J.', 'Robert', 'Oppenh...   \n",
       "\n",
       "                                        genre  \\\n",
       "0  ['Action', 'Adventure', 'Science Fiction']   \n",
       "1          ['Comedy', 'Adventure', 'Fantasy']   \n",
       "2  ['Action', 'Adventure', 'Science Fiction']   \n",
       "3             ['Action', 'Crime', 'Thriller']   \n",
       "4                        ['Drama', 'History']   \n",
       "\n",
       "                                            keywords  \\\n",
       "0  ['secret identity', 'hero', 'superhero', 'base...   \n",
       "1  ['feminism', 'patriarchy', 'satire', 'based on...   \n",
       "2  ['peru', 'alien', 'end of the world', 'based o...   \n",
       "3  ['sequel', 'revenge', 'racing', 'family', 'cars']   \n",
       "4  ['based on novel or book', 'husband wife relat...   \n",
       "\n",
       "                                                cast                   crew  \n",
       "0  ['Ezra Miller', 'Sasha Calle', 'Michael Keaton...    ['Andy Muschietti']  \n",
       "1  ['Margot Robbie', 'Ryan Gosling', 'Issa Rae', ...       ['Greta Gerwig']  \n",
       "2  ['Anthony Ramos', 'Dominique Fishback', 'Peter...   ['Steven Caple Jr.']  \n",
       "3  ['Vin Diesel', 'Michelle Rodriguez', 'Tyrese G...    ['Louis Leterrier']  \n",
       "4  ['Cillian Murphy', 'Emily Blunt', 'Matt Damon'...  ['Christopher Nolan']  "
      ]
     },
     "execution_count": 23,
     "metadata": {},
     "output_type": "execute_result"
    }
   ],
   "source": [
    "movies_n_series.head()"
   ]
  },
  {
   "cell_type": "code",
   "execution_count": 24,
   "id": "8beb7cbd-ebd7-4593-a8be-3bbfd5107d2d",
   "metadata": {},
   "outputs": [
    {
     "data": {
      "text/plain": [
       "mov_ser_id    0\n",
       "title         0\n",
       "overview      0\n",
       "genre         0\n",
       "keywords      0\n",
       "cast          0\n",
       "crew          0\n",
       "dtype: int64"
      ]
     },
     "execution_count": 24,
     "metadata": {},
     "output_type": "execute_result"
    }
   ],
   "source": [
    "movies_n_series.isnull().sum() #to find the total of null values in a particular column"
   ]
  },
  {
   "cell_type": "code",
   "execution_count": 25,
   "id": "8ea33881-3c4a-4632-bf20-87b9e3d11139",
   "metadata": {},
   "outputs": [
    {
     "data": {
      "text/plain": [
       "0"
      ]
     },
     "execution_count": 25,
     "metadata": {},
     "output_type": "execute_result"
    }
   ],
   "source": [
    "movies_n_series.duplicated().sum() # ro find the duplicate values"
   ]
  },
  {
   "cell_type": "code",
   "execution_count": 26,
   "id": "8f1e8cf8-e411-4456-a711-14e3fc4d4f8c",
   "metadata": {},
   "outputs": [
    {
     "data": {
      "text/plain": [
       "\"['Action', 'Adventure', 'Science Fiction']\""
      ]
     },
     "execution_count": 26,
     "metadata": {},
     "output_type": "execute_result"
    }
   ],
   "source": [
    "movies_n_series.iloc[0].genre"
   ]
  },
  {
   "cell_type": "code",
   "execution_count": 27,
   "id": "31eb1048-61d8-4f57-9461-84686a939954",
   "metadata": {},
   "outputs": [],
   "source": [
    "#first we need to preprocess the data of the columns\n",
    "# genre\n",
    "# keywords\n",
    "# overview\n",
    "# cast \n",
    "# crew\n",
    "# all the above columns data as like string we need to convert it into list\n",
    "import ast\n",
    "\n",
    "movies_n_series['genre'] = movies_n_series['genre'].apply(lambda x: ast.literal_eval(x))\n",
    "movies_n_series['keywords'] = movies_n_series['keywords'].apply(lambda x: ast.literal_eval(x))\n",
    "movies_n_series['overview'] = movies_n_series['overview'].apply(lambda x: ast.literal_eval(x))\n",
    "movies_n_series['cast'] = movies_n_series['cast'].apply(lambda x: ast.literal_eval(x))\n",
    "movies_n_series['crew'] = movies_n_series['crew'].apply(lambda x: ast.literal_eval(x))"
   ]
  },
  {
   "cell_type": "code",
   "execution_count": 28,
   "id": "dcaae315-a934-4e1a-b313-b367643e96f2",
   "metadata": {},
   "outputs": [
    {
     "data": {
      "text/html": [
       "<div>\n",
       "<style scoped>\n",
       "    .dataframe tbody tr th:only-of-type {\n",
       "        vertical-align: middle;\n",
       "    }\n",
       "\n",
       "    .dataframe tbody tr th {\n",
       "        vertical-align: top;\n",
       "    }\n",
       "\n",
       "    .dataframe thead th {\n",
       "        text-align: right;\n",
       "    }\n",
       "</style>\n",
       "<table border=\"1\" class=\"dataframe\">\n",
       "  <thead>\n",
       "    <tr style=\"text-align: right;\">\n",
       "      <th></th>\n",
       "      <th>mov_ser_id</th>\n",
       "      <th>title</th>\n",
       "      <th>overview</th>\n",
       "      <th>genre</th>\n",
       "      <th>keywords</th>\n",
       "      <th>cast</th>\n",
       "      <th>crew</th>\n",
       "    </tr>\n",
       "  </thead>\n",
       "  <tbody>\n",
       "    <tr>\n",
       "      <th>0</th>\n",
       "      <td>298618</td>\n",
       "      <td>The Flash</td>\n",
       "      <td>[When, his, attempt, to, save, his, family, in...</td>\n",
       "      <td>[Action, Adventure, Science Fiction]</td>\n",
       "      <td>[secret identity, hero, superhero, based on co...</td>\n",
       "      <td>[Ezra Miller, Sasha Calle, Michael Keaton, Mic...</td>\n",
       "      <td>[Andy Muschietti]</td>\n",
       "    </tr>\n",
       "    <tr>\n",
       "      <th>1</th>\n",
       "      <td>346698</td>\n",
       "      <td>Barbie</td>\n",
       "      <td>[Barbie, and, Ken, are, having, the, time, of,...</td>\n",
       "      <td>[Comedy, Adventure, Fantasy]</td>\n",
       "      <td>[feminism, patriarchy, satire, based on toy, f...</td>\n",
       "      <td>[Margot Robbie, Ryan Gosling, Issa Rae, Kate M...</td>\n",
       "      <td>[Greta Gerwig]</td>\n",
       "    </tr>\n",
       "    <tr>\n",
       "      <th>2</th>\n",
       "      <td>667538</td>\n",
       "      <td>Transformers: Rise of the Beasts</td>\n",
       "      <td>[When, a, new, threat, capable, of, destroying...</td>\n",
       "      <td>[Action, Adventure, Science Fiction]</td>\n",
       "      <td>[peru, alien, end of the world, based on toy, ...</td>\n",
       "      <td>[Anthony Ramos, Dominique Fishback, Peter Cull...</td>\n",
       "      <td>[Steven Caple Jr.]</td>\n",
       "    </tr>\n",
       "    <tr>\n",
       "      <th>3</th>\n",
       "      <td>385687</td>\n",
       "      <td>Fast X</td>\n",
       "      <td>[Over, many, missions, and, against, impossibl...</td>\n",
       "      <td>[Action, Crime, Thriller]</td>\n",
       "      <td>[sequel, revenge, racing, family, cars]</td>\n",
       "      <td>[Vin Diesel, Michelle Rodriguez, Tyrese Gibson...</td>\n",
       "      <td>[Louis Leterrier]</td>\n",
       "    </tr>\n",
       "    <tr>\n",
       "      <th>4</th>\n",
       "      <td>872585</td>\n",
       "      <td>Oppenheimer</td>\n",
       "      <td>[The, story, of, J., Robert, Oppenheimer’s, ro...</td>\n",
       "      <td>[Drama, History]</td>\n",
       "      <td>[based on novel or book, husband wife relation...</td>\n",
       "      <td>[Cillian Murphy, Emily Blunt, Matt Damon, Robe...</td>\n",
       "      <td>[Christopher Nolan]</td>\n",
       "    </tr>\n",
       "  </tbody>\n",
       "</table>\n",
       "</div>"
      ],
      "text/plain": [
       "   mov_ser_id                             title  \\\n",
       "0      298618                         The Flash   \n",
       "1      346698                            Barbie   \n",
       "2      667538  Transformers: Rise of the Beasts   \n",
       "3      385687                            Fast X   \n",
       "4      872585                       Oppenheimer   \n",
       "\n",
       "                                            overview  \\\n",
       "0  [When, his, attempt, to, save, his, family, in...   \n",
       "1  [Barbie, and, Ken, are, having, the, time, of,...   \n",
       "2  [When, a, new, threat, capable, of, destroying...   \n",
       "3  [Over, many, missions, and, against, impossibl...   \n",
       "4  [The, story, of, J., Robert, Oppenheimer’s, ro...   \n",
       "\n",
       "                                  genre  \\\n",
       "0  [Action, Adventure, Science Fiction]   \n",
       "1          [Comedy, Adventure, Fantasy]   \n",
       "2  [Action, Adventure, Science Fiction]   \n",
       "3             [Action, Crime, Thriller]   \n",
       "4                      [Drama, History]   \n",
       "\n",
       "                                            keywords  \\\n",
       "0  [secret identity, hero, superhero, based on co...   \n",
       "1  [feminism, patriarchy, satire, based on toy, f...   \n",
       "2  [peru, alien, end of the world, based on toy, ...   \n",
       "3            [sequel, revenge, racing, family, cars]   \n",
       "4  [based on novel or book, husband wife relation...   \n",
       "\n",
       "                                                cast                 crew  \n",
       "0  [Ezra Miller, Sasha Calle, Michael Keaton, Mic...    [Andy Muschietti]  \n",
       "1  [Margot Robbie, Ryan Gosling, Issa Rae, Kate M...       [Greta Gerwig]  \n",
       "2  [Anthony Ramos, Dominique Fishback, Peter Cull...   [Steven Caple Jr.]  \n",
       "3  [Vin Diesel, Michelle Rodriguez, Tyrese Gibson...    [Louis Leterrier]  \n",
       "4  [Cillian Murphy, Emily Blunt, Matt Damon, Robe...  [Christopher Nolan]  "
      ]
     },
     "execution_count": 28,
     "metadata": {},
     "output_type": "execute_result"
    }
   ],
   "source": [
    "movies_n_series.head()"
   ]
  },
  {
   "cell_type": "code",
   "execution_count": 29,
   "id": "f5ad4ab4-073c-4584-a5cc-65c45e89fc9b",
   "metadata": {},
   "outputs": [],
   "source": [
    "#we are going to take out the spaces between cast, crew, keywords and genre data\n",
    "#eg: if Science Fiction to ScienceFiction\n",
    "movies_n_series['genre'] = movies_n_series['genre'].apply(lambda x: [i.replace(\" \",\"\") for i in x])\n",
    "movies_n_series['cast'] = movies_n_series['cast'].apply(lambda x: [i.replace(\" \",\"\") for i in x])\n",
    "movies_n_series['crew'] = movies_n_series['crew'].apply(lambda x: [i.replace(\" \",\"\") for i in x])\n",
    "movies_n_series['keywords'] = movies_n_series['keywords'].apply(lambda x: [i.replace(\" \",\"\") for i in x])"
   ]
  },
  {
   "cell_type": "code",
   "execution_count": 30,
   "id": "9892bcd5-e41d-4cd8-b755-ab8b4dc9ac4d",
   "metadata": {},
   "outputs": [
    {
     "data": {
      "text/html": [
       "<div>\n",
       "<style scoped>\n",
       "    .dataframe tbody tr th:only-of-type {\n",
       "        vertical-align: middle;\n",
       "    }\n",
       "\n",
       "    .dataframe tbody tr th {\n",
       "        vertical-align: top;\n",
       "    }\n",
       "\n",
       "    .dataframe thead th {\n",
       "        text-align: right;\n",
       "    }\n",
       "</style>\n",
       "<table border=\"1\" class=\"dataframe\">\n",
       "  <thead>\n",
       "    <tr style=\"text-align: right;\">\n",
       "      <th></th>\n",
       "      <th>mov_ser_id</th>\n",
       "      <th>title</th>\n",
       "      <th>overview</th>\n",
       "      <th>genre</th>\n",
       "      <th>keywords</th>\n",
       "      <th>cast</th>\n",
       "      <th>crew</th>\n",
       "    </tr>\n",
       "  </thead>\n",
       "  <tbody>\n",
       "    <tr>\n",
       "      <th>0</th>\n",
       "      <td>298618</td>\n",
       "      <td>The Flash</td>\n",
       "      <td>[When, his, attempt, to, save, his, family, in...</td>\n",
       "      <td>[Action, Adventure, ScienceFiction]</td>\n",
       "      <td>[secretidentity, hero, superhero, basedoncomic...</td>\n",
       "      <td>[EzraMiller, SashaCalle, MichaelKeaton, Michae...</td>\n",
       "      <td>[AndyMuschietti]</td>\n",
       "    </tr>\n",
       "    <tr>\n",
       "      <th>1</th>\n",
       "      <td>346698</td>\n",
       "      <td>Barbie</td>\n",
       "      <td>[Barbie, and, Ken, are, having, the, time, of,...</td>\n",
       "      <td>[Comedy, Adventure, Fantasy]</td>\n",
       "      <td>[feminism, patriarchy, satire, basedontoy, fem...</td>\n",
       "      <td>[MargotRobbie, RyanGosling, IssaRae, KateMcKin...</td>\n",
       "      <td>[GretaGerwig]</td>\n",
       "    </tr>\n",
       "    <tr>\n",
       "      <th>2</th>\n",
       "      <td>667538</td>\n",
       "      <td>Transformers: Rise of the Beasts</td>\n",
       "      <td>[When, a, new, threat, capable, of, destroying...</td>\n",
       "      <td>[Action, Adventure, ScienceFiction]</td>\n",
       "      <td>[peru, alien, endoftheworld, basedontoy, robot...</td>\n",
       "      <td>[AnthonyRamos, DominiqueFishback, PeterCullen,...</td>\n",
       "      <td>[StevenCapleJr.]</td>\n",
       "    </tr>\n",
       "    <tr>\n",
       "      <th>3</th>\n",
       "      <td>385687</td>\n",
       "      <td>Fast X</td>\n",
       "      <td>[Over, many, missions, and, against, impossibl...</td>\n",
       "      <td>[Action, Crime, Thriller]</td>\n",
       "      <td>[sequel, revenge, racing, family, cars]</td>\n",
       "      <td>[VinDiesel, MichelleRodriguez, TyreseGibson, L...</td>\n",
       "      <td>[LouisLeterrier]</td>\n",
       "    </tr>\n",
       "    <tr>\n",
       "      <th>4</th>\n",
       "      <td>872585</td>\n",
       "      <td>Oppenheimer</td>\n",
       "      <td>[The, story, of, J., Robert, Oppenheimer’s, ro...</td>\n",
       "      <td>[Drama, History]</td>\n",
       "      <td>[basedonnovelorbook, husbandwiferelationship, ...</td>\n",
       "      <td>[CillianMurphy, EmilyBlunt, MattDamon, RobertD...</td>\n",
       "      <td>[ChristopherNolan]</td>\n",
       "    </tr>\n",
       "  </tbody>\n",
       "</table>\n",
       "</div>"
      ],
      "text/plain": [
       "   mov_ser_id                             title  \\\n",
       "0      298618                         The Flash   \n",
       "1      346698                            Barbie   \n",
       "2      667538  Transformers: Rise of the Beasts   \n",
       "3      385687                            Fast X   \n",
       "4      872585                       Oppenheimer   \n",
       "\n",
       "                                            overview  \\\n",
       "0  [When, his, attempt, to, save, his, family, in...   \n",
       "1  [Barbie, and, Ken, are, having, the, time, of,...   \n",
       "2  [When, a, new, threat, capable, of, destroying...   \n",
       "3  [Over, many, missions, and, against, impossibl...   \n",
       "4  [The, story, of, J., Robert, Oppenheimer’s, ro...   \n",
       "\n",
       "                                 genre  \\\n",
       "0  [Action, Adventure, ScienceFiction]   \n",
       "1         [Comedy, Adventure, Fantasy]   \n",
       "2  [Action, Adventure, ScienceFiction]   \n",
       "3            [Action, Crime, Thriller]   \n",
       "4                     [Drama, History]   \n",
       "\n",
       "                                            keywords  \\\n",
       "0  [secretidentity, hero, superhero, basedoncomic...   \n",
       "1  [feminism, patriarchy, satire, basedontoy, fem...   \n",
       "2  [peru, alien, endoftheworld, basedontoy, robot...   \n",
       "3            [sequel, revenge, racing, family, cars]   \n",
       "4  [basedonnovelorbook, husbandwiferelationship, ...   \n",
       "\n",
       "                                                cast                crew  \n",
       "0  [EzraMiller, SashaCalle, MichaelKeaton, Michae...    [AndyMuschietti]  \n",
       "1  [MargotRobbie, RyanGosling, IssaRae, KateMcKin...       [GretaGerwig]  \n",
       "2  [AnthonyRamos, DominiqueFishback, PeterCullen,...    [StevenCapleJr.]  \n",
       "3  [VinDiesel, MichelleRodriguez, TyreseGibson, L...    [LouisLeterrier]  \n",
       "4  [CillianMurphy, EmilyBlunt, MattDamon, RobertD...  [ChristopherNolan]  "
      ]
     },
     "execution_count": 30,
     "metadata": {},
     "output_type": "execute_result"
    }
   ],
   "source": [
    "movies_n_series.head()"
   ]
  },
  {
   "cell_type": "code",
   "execution_count": 31,
   "id": "590018ee-ac68-4bd4-94bc-867599820b4f",
   "metadata": {},
   "outputs": [],
   "source": [
    "#the cast column contains more values so first we are going to fix it by converting the length into max 3\n",
    "#writing function for that\n",
    "def new_li(obj):\n",
    "    if len(obj) > 3:\n",
    "        obj = obj[:3]\n",
    "    return obj"
   ]
  },
  {
   "cell_type": "code",
   "execution_count": 32,
   "id": "5783ae0a-ac21-4b3b-b392-3f7bdfcbd580",
   "metadata": {},
   "outputs": [],
   "source": [
    "movies_n_series['cast'] = movies_n_series['cast'].apply(new_li)"
   ]
  },
  {
   "cell_type": "code",
   "execution_count": 33,
   "id": "424f48e2-1041-423e-8ec0-ceb859bb567d",
   "metadata": {},
   "outputs": [],
   "source": [
    "#creating a new column named tags by concatenating the columns\n",
    "# overview\n",
    "# genre\n",
    "# keywords\n",
    "# cast\n",
    "# crew\n",
    "\n",
    "movies_n_series['tags'] = movies_n_series['overview'] + movies_n_series['genre'] + movies_n_series['keywords'] + movies_n_series['cast'] + movies_n_series['crew']"
   ]
  },
  {
   "cell_type": "code",
   "execution_count": 34,
   "id": "5d745193-a916-4f04-a94d-5d520ce24d45",
   "metadata": {},
   "outputs": [
    {
     "data": {
      "text/html": [
       "<div>\n",
       "<style scoped>\n",
       "    .dataframe tbody tr th:only-of-type {\n",
       "        vertical-align: middle;\n",
       "    }\n",
       "\n",
       "    .dataframe tbody tr th {\n",
       "        vertical-align: top;\n",
       "    }\n",
       "\n",
       "    .dataframe thead th {\n",
       "        text-align: right;\n",
       "    }\n",
       "</style>\n",
       "<table border=\"1\" class=\"dataframe\">\n",
       "  <thead>\n",
       "    <tr style=\"text-align: right;\">\n",
       "      <th></th>\n",
       "      <th>mov_ser_id</th>\n",
       "      <th>title</th>\n",
       "      <th>overview</th>\n",
       "      <th>genre</th>\n",
       "      <th>keywords</th>\n",
       "      <th>cast</th>\n",
       "      <th>crew</th>\n",
       "      <th>tags</th>\n",
       "    </tr>\n",
       "  </thead>\n",
       "  <tbody>\n",
       "    <tr>\n",
       "      <th>0</th>\n",
       "      <td>298618</td>\n",
       "      <td>The Flash</td>\n",
       "      <td>[When, his, attempt, to, save, his, family, in...</td>\n",
       "      <td>[Action, Adventure, ScienceFiction]</td>\n",
       "      <td>[secretidentity, hero, superhero, basedoncomic...</td>\n",
       "      <td>[EzraMiller, SashaCalle, MichaelKeaton]</td>\n",
       "      <td>[AndyMuschietti]</td>\n",
       "      <td>[When, his, attempt, to, save, his, family, in...</td>\n",
       "    </tr>\n",
       "    <tr>\n",
       "      <th>1</th>\n",
       "      <td>346698</td>\n",
       "      <td>Barbie</td>\n",
       "      <td>[Barbie, and, Ken, are, having, the, time, of,...</td>\n",
       "      <td>[Comedy, Adventure, Fantasy]</td>\n",
       "      <td>[feminism, patriarchy, satire, basedontoy, fem...</td>\n",
       "      <td>[MargotRobbie, RyanGosling, IssaRae]</td>\n",
       "      <td>[GretaGerwig]</td>\n",
       "      <td>[Barbie, and, Ken, are, having, the, time, of,...</td>\n",
       "    </tr>\n",
       "    <tr>\n",
       "      <th>2</th>\n",
       "      <td>667538</td>\n",
       "      <td>Transformers: Rise of the Beasts</td>\n",
       "      <td>[When, a, new, threat, capable, of, destroying...</td>\n",
       "      <td>[Action, Adventure, ScienceFiction]</td>\n",
       "      <td>[peru, alien, endoftheworld, basedontoy, robot...</td>\n",
       "      <td>[AnthonyRamos, DominiqueFishback, PeterCullen]</td>\n",
       "      <td>[StevenCapleJr.]</td>\n",
       "      <td>[When, a, new, threat, capable, of, destroying...</td>\n",
       "    </tr>\n",
       "    <tr>\n",
       "      <th>3</th>\n",
       "      <td>385687</td>\n",
       "      <td>Fast X</td>\n",
       "      <td>[Over, many, missions, and, against, impossibl...</td>\n",
       "      <td>[Action, Crime, Thriller]</td>\n",
       "      <td>[sequel, revenge, racing, family, cars]</td>\n",
       "      <td>[VinDiesel, MichelleRodriguez, TyreseGibson]</td>\n",
       "      <td>[LouisLeterrier]</td>\n",
       "      <td>[Over, many, missions, and, against, impossibl...</td>\n",
       "    </tr>\n",
       "    <tr>\n",
       "      <th>4</th>\n",
       "      <td>872585</td>\n",
       "      <td>Oppenheimer</td>\n",
       "      <td>[The, story, of, J., Robert, Oppenheimer’s, ro...</td>\n",
       "      <td>[Drama, History]</td>\n",
       "      <td>[basedonnovelorbook, husbandwiferelationship, ...</td>\n",
       "      <td>[CillianMurphy, EmilyBlunt, MattDamon]</td>\n",
       "      <td>[ChristopherNolan]</td>\n",
       "      <td>[The, story, of, J., Robert, Oppenheimer’s, ro...</td>\n",
       "    </tr>\n",
       "  </tbody>\n",
       "</table>\n",
       "</div>"
      ],
      "text/plain": [
       "   mov_ser_id                             title  \\\n",
       "0      298618                         The Flash   \n",
       "1      346698                            Barbie   \n",
       "2      667538  Transformers: Rise of the Beasts   \n",
       "3      385687                            Fast X   \n",
       "4      872585                       Oppenheimer   \n",
       "\n",
       "                                            overview  \\\n",
       "0  [When, his, attempt, to, save, his, family, in...   \n",
       "1  [Barbie, and, Ken, are, having, the, time, of,...   \n",
       "2  [When, a, new, threat, capable, of, destroying...   \n",
       "3  [Over, many, missions, and, against, impossibl...   \n",
       "4  [The, story, of, J., Robert, Oppenheimer’s, ro...   \n",
       "\n",
       "                                 genre  \\\n",
       "0  [Action, Adventure, ScienceFiction]   \n",
       "1         [Comedy, Adventure, Fantasy]   \n",
       "2  [Action, Adventure, ScienceFiction]   \n",
       "3            [Action, Crime, Thriller]   \n",
       "4                     [Drama, History]   \n",
       "\n",
       "                                            keywords  \\\n",
       "0  [secretidentity, hero, superhero, basedoncomic...   \n",
       "1  [feminism, patriarchy, satire, basedontoy, fem...   \n",
       "2  [peru, alien, endoftheworld, basedontoy, robot...   \n",
       "3            [sequel, revenge, racing, family, cars]   \n",
       "4  [basedonnovelorbook, husbandwiferelationship, ...   \n",
       "\n",
       "                                             cast                crew  \\\n",
       "0         [EzraMiller, SashaCalle, MichaelKeaton]    [AndyMuschietti]   \n",
       "1            [MargotRobbie, RyanGosling, IssaRae]       [GretaGerwig]   \n",
       "2  [AnthonyRamos, DominiqueFishback, PeterCullen]    [StevenCapleJr.]   \n",
       "3    [VinDiesel, MichelleRodriguez, TyreseGibson]    [LouisLeterrier]   \n",
       "4          [CillianMurphy, EmilyBlunt, MattDamon]  [ChristopherNolan]   \n",
       "\n",
       "                                                tags  \n",
       "0  [When, his, attempt, to, save, his, family, in...  \n",
       "1  [Barbie, and, Ken, are, having, the, time, of,...  \n",
       "2  [When, a, new, threat, capable, of, destroying...  \n",
       "3  [Over, many, missions, and, against, impossibl...  \n",
       "4  [The, story, of, J., Robert, Oppenheimer’s, ro...  "
      ]
     },
     "execution_count": 34,
     "metadata": {},
     "output_type": "execute_result"
    }
   ],
   "source": [
    "movies_n_series.head()"
   ]
  },
  {
   "cell_type": "code",
   "execution_count": 35,
   "id": "df5b824c-df22-4e68-947d-2921ef5f1d20",
   "metadata": {},
   "outputs": [],
   "source": [
    "# going to create a new dataframe by using the three columns\n",
    "# mov_ser_id\n",
    "# title\n",
    "# tags\n",
    "\n",
    "new_df = movies_n_series[['mov_ser_id', 'title', 'tags']]"
   ]
  },
  {
   "cell_type": "code",
   "execution_count": 36,
   "id": "565d47cd-0811-4df6-b208-666b1b1f470b",
   "metadata": {},
   "outputs": [
    {
     "data": {
      "text/html": [
       "<div>\n",
       "<style scoped>\n",
       "    .dataframe tbody tr th:only-of-type {\n",
       "        vertical-align: middle;\n",
       "    }\n",
       "\n",
       "    .dataframe tbody tr th {\n",
       "        vertical-align: top;\n",
       "    }\n",
       "\n",
       "    .dataframe thead th {\n",
       "        text-align: right;\n",
       "    }\n",
       "</style>\n",
       "<table border=\"1\" class=\"dataframe\">\n",
       "  <thead>\n",
       "    <tr style=\"text-align: right;\">\n",
       "      <th></th>\n",
       "      <th>mov_ser_id</th>\n",
       "      <th>title</th>\n",
       "      <th>tags</th>\n",
       "    </tr>\n",
       "  </thead>\n",
       "  <tbody>\n",
       "    <tr>\n",
       "      <th>0</th>\n",
       "      <td>298618</td>\n",
       "      <td>The Flash</td>\n",
       "      <td>[When, his, attempt, to, save, his, family, in...</td>\n",
       "    </tr>\n",
       "    <tr>\n",
       "      <th>1</th>\n",
       "      <td>346698</td>\n",
       "      <td>Barbie</td>\n",
       "      <td>[Barbie, and, Ken, are, having, the, time, of,...</td>\n",
       "    </tr>\n",
       "    <tr>\n",
       "      <th>2</th>\n",
       "      <td>667538</td>\n",
       "      <td>Transformers: Rise of the Beasts</td>\n",
       "      <td>[When, a, new, threat, capable, of, destroying...</td>\n",
       "    </tr>\n",
       "    <tr>\n",
       "      <th>3</th>\n",
       "      <td>385687</td>\n",
       "      <td>Fast X</td>\n",
       "      <td>[Over, many, missions, and, against, impossibl...</td>\n",
       "    </tr>\n",
       "    <tr>\n",
       "      <th>4</th>\n",
       "      <td>872585</td>\n",
       "      <td>Oppenheimer</td>\n",
       "      <td>[The, story, of, J., Robert, Oppenheimer’s, ro...</td>\n",
       "    </tr>\n",
       "  </tbody>\n",
       "</table>\n",
       "</div>"
      ],
      "text/plain": [
       "   mov_ser_id                             title  \\\n",
       "0      298618                         The Flash   \n",
       "1      346698                            Barbie   \n",
       "2      667538  Transformers: Rise of the Beasts   \n",
       "3      385687                            Fast X   \n",
       "4      872585                       Oppenheimer   \n",
       "\n",
       "                                                tags  \n",
       "0  [When, his, attempt, to, save, his, family, in...  \n",
       "1  [Barbie, and, Ken, are, having, the, time, of,...  \n",
       "2  [When, a, new, threat, capable, of, destroying...  \n",
       "3  [Over, many, missions, and, against, impossibl...  \n",
       "4  [The, story, of, J., Robert, Oppenheimer’s, ro...  "
      ]
     },
     "execution_count": 36,
     "metadata": {},
     "output_type": "execute_result"
    }
   ],
   "source": [
    "new_df.head()"
   ]
  },
  {
   "cell_type": "code",
   "execution_count": 37,
   "id": "27a14f74-0e96-414b-85f2-03936a5eacb9",
   "metadata": {},
   "outputs": [
    {
     "name": "stderr",
     "output_type": "stream",
     "text": [
      "C:\\Users\\aruna\\AppData\\Local\\Temp\\ipykernel_14332\\2499136289.py:3: SettingWithCopyWarning: \n",
      "A value is trying to be set on a copy of a slice from a DataFrame.\n",
      "Try using .loc[row_indexer,col_indexer] = value instead\n",
      "\n",
      "See the caveats in the documentation: https://pandas.pydata.org/pandas-docs/stable/user_guide/indexing.html#returning-a-view-versus-a-copy\n",
      "  new_df['tags'] = new_df['tags'].apply(lambda x: \" \".join(x))\n"
     ]
    }
   ],
   "source": [
    "#here you can see that tags in a list form so next we are going to convert it to a string\n",
    "# leave the error no problem in it\n",
    "new_df['tags'] = new_df['tags'].apply(lambda x: \" \".join(x))"
   ]
  },
  {
   "cell_type": "code",
   "execution_count": 38,
   "id": "11e72015-a803-4e4d-a292-13d4fb3ab5cf",
   "metadata": {},
   "outputs": [
    {
     "data": {
      "text/html": [
       "<div>\n",
       "<style scoped>\n",
       "    .dataframe tbody tr th:only-of-type {\n",
       "        vertical-align: middle;\n",
       "    }\n",
       "\n",
       "    .dataframe tbody tr th {\n",
       "        vertical-align: top;\n",
       "    }\n",
       "\n",
       "    .dataframe thead th {\n",
       "        text-align: right;\n",
       "    }\n",
       "</style>\n",
       "<table border=\"1\" class=\"dataframe\">\n",
       "  <thead>\n",
       "    <tr style=\"text-align: right;\">\n",
       "      <th></th>\n",
       "      <th>mov_ser_id</th>\n",
       "      <th>title</th>\n",
       "      <th>tags</th>\n",
       "    </tr>\n",
       "  </thead>\n",
       "  <tbody>\n",
       "    <tr>\n",
       "      <th>0</th>\n",
       "      <td>298618</td>\n",
       "      <td>The Flash</td>\n",
       "      <td>When his attempt to save his family inadverten...</td>\n",
       "    </tr>\n",
       "    <tr>\n",
       "      <th>1</th>\n",
       "      <td>346698</td>\n",
       "      <td>Barbie</td>\n",
       "      <td>Barbie and Ken are having the time of their li...</td>\n",
       "    </tr>\n",
       "    <tr>\n",
       "      <th>2</th>\n",
       "      <td>667538</td>\n",
       "      <td>Transformers: Rise of the Beasts</td>\n",
       "      <td>When a new threat capable of destroying the en...</td>\n",
       "    </tr>\n",
       "    <tr>\n",
       "      <th>3</th>\n",
       "      <td>385687</td>\n",
       "      <td>Fast X</td>\n",
       "      <td>Over many missions and against impossible odds...</td>\n",
       "    </tr>\n",
       "    <tr>\n",
       "      <th>4</th>\n",
       "      <td>872585</td>\n",
       "      <td>Oppenheimer</td>\n",
       "      <td>The story of J. Robert Oppenheimer’s role in t...</td>\n",
       "    </tr>\n",
       "  </tbody>\n",
       "</table>\n",
       "</div>"
      ],
      "text/plain": [
       "   mov_ser_id                             title  \\\n",
       "0      298618                         The Flash   \n",
       "1      346698                            Barbie   \n",
       "2      667538  Transformers: Rise of the Beasts   \n",
       "3      385687                            Fast X   \n",
       "4      872585                       Oppenheimer   \n",
       "\n",
       "                                                tags  \n",
       "0  When his attempt to save his family inadverten...  \n",
       "1  Barbie and Ken are having the time of their li...  \n",
       "2  When a new threat capable of destroying the en...  \n",
       "3  Over many missions and against impossible odds...  \n",
       "4  The story of J. Robert Oppenheimer’s role in t...  "
      ]
     },
     "execution_count": 38,
     "metadata": {},
     "output_type": "execute_result"
    }
   ],
   "source": [
    "new_df.head()"
   ]
  },
  {
   "cell_type": "code",
   "execution_count": 39,
   "id": "2136585f-8f0c-464f-af6a-7481b10236cd",
   "metadata": {},
   "outputs": [],
   "source": [
    "import nltk"
   ]
  },
  {
   "cell_type": "code",
   "execution_count": 40,
   "id": "5197db60-eff4-4c22-abe6-b7bd282fcab2",
   "metadata": {},
   "outputs": [],
   "source": [
    "from nltk.stem.porter import PorterStemmer\n",
    "ps = PorterStemmer()"
   ]
  },
  {
   "cell_type": "code",
   "execution_count": 41,
   "id": "2418ab45-124b-40da-8cff-a282944f46c6",
   "metadata": {},
   "outputs": [],
   "source": [
    "def stem(text):\n",
    "    y = []\n",
    "    for i in text.split():\n",
    "        y.append(ps.stem(i))\n",
    "    return \" \".join(y)"
   ]
  },
  {
   "cell_type": "code",
   "execution_count": 42,
   "id": "f0b8636f-1e02-4e8c-bb66-2eb97a2eff15",
   "metadata": {},
   "outputs": [
    {
     "name": "stderr",
     "output_type": "stream",
     "text": [
      "C:\\Users\\aruna\\AppData\\Local\\Temp\\ipykernel_14332\\3213734980.py:1: SettingWithCopyWarning: \n",
      "A value is trying to be set on a copy of a slice from a DataFrame.\n",
      "Try using .loc[row_indexer,col_indexer] = value instead\n",
      "\n",
      "See the caveats in the documentation: https://pandas.pydata.org/pandas-docs/stable/user_guide/indexing.html#returning-a-view-versus-a-copy\n",
      "  new_df['tags'] = new_df['tags'].apply(stem)\n"
     ]
    }
   ],
   "source": [
    "new_df['tags'] = new_df['tags'].apply(stem)"
   ]
  },
  {
   "cell_type": "code",
   "execution_count": 43,
   "id": "e5bd8cfe-bd5c-44ac-9fd3-2fd3437ee759",
   "metadata": {},
   "outputs": [
    {
     "data": {
      "text/plain": [
       "\"when hi attempt to save hi famili inadvert alter the future, barri allen becom trap in a realiti in which gener zod ha return and there are no super hero to turn to. in order to save the world that he is in and return to the futur that he knows, barry' onli hope is to race for hi life. but will make the ultim sacrific be enough to reset the universe? action adventur sciencefict secretident hero superhero basedoncom superhuman superpow aftercreditssting butterflyeffect dcextendeduniverse(dceu) superhuman lossofmoth ezramil sashacal michaelkeaton andymuschietti\""
      ]
     },
     "execution_count": 43,
     "metadata": {},
     "output_type": "execute_result"
    }
   ],
   "source": [
    "new_df['tags'][0]"
   ]
  },
  {
   "cell_type": "code",
   "execution_count": 44,
   "id": "a14fbc05-9a6a-47df-8529-449f98aad0a8",
   "metadata": {},
   "outputs": [
    {
     "name": "stderr",
     "output_type": "stream",
     "text": [
      "C:\\Users\\aruna\\AppData\\Local\\Temp\\ipykernel_14332\\3179194879.py:2: SettingWithCopyWarning: \n",
      "A value is trying to be set on a copy of a slice from a DataFrame.\n",
      "Try using .loc[row_indexer,col_indexer] = value instead\n",
      "\n",
      "See the caveats in the documentation: https://pandas.pydata.org/pandas-docs/stable/user_guide/indexing.html#returning-a-view-versus-a-copy\n",
      "  new_df['tags'] = new_df['tags'].apply(lambda x: x.lower())\n"
     ]
    }
   ],
   "source": [
    "# next we are going to convert our tags into lowercase\n",
    "new_df['tags'] = new_df['tags'].apply(lambda x: x.lower())"
   ]
  },
  {
   "cell_type": "code",
   "execution_count": 45,
   "id": "e8045cd5-b9f0-449d-a449-1af924a98425",
   "metadata": {},
   "outputs": [
    {
     "data": {
      "text/html": [
       "<div>\n",
       "<style scoped>\n",
       "    .dataframe tbody tr th:only-of-type {\n",
       "        vertical-align: middle;\n",
       "    }\n",
       "\n",
       "    .dataframe tbody tr th {\n",
       "        vertical-align: top;\n",
       "    }\n",
       "\n",
       "    .dataframe thead th {\n",
       "        text-align: right;\n",
       "    }\n",
       "</style>\n",
       "<table border=\"1\" class=\"dataframe\">\n",
       "  <thead>\n",
       "    <tr style=\"text-align: right;\">\n",
       "      <th></th>\n",
       "      <th>mov_ser_id</th>\n",
       "      <th>title</th>\n",
       "      <th>tags</th>\n",
       "    </tr>\n",
       "  </thead>\n",
       "  <tbody>\n",
       "    <tr>\n",
       "      <th>0</th>\n",
       "      <td>298618</td>\n",
       "      <td>The Flash</td>\n",
       "      <td>when hi attempt to save hi famili inadvert alt...</td>\n",
       "    </tr>\n",
       "    <tr>\n",
       "      <th>1</th>\n",
       "      <td>346698</td>\n",
       "      <td>Barbie</td>\n",
       "      <td>barbi and ken are have the time of their live ...</td>\n",
       "    </tr>\n",
       "    <tr>\n",
       "      <th>2</th>\n",
       "      <td>667538</td>\n",
       "      <td>Transformers: Rise of the Beasts</td>\n",
       "      <td>when a new threat capabl of destroy the entir ...</td>\n",
       "    </tr>\n",
       "    <tr>\n",
       "      <th>3</th>\n",
       "      <td>385687</td>\n",
       "      <td>Fast X</td>\n",
       "      <td>over mani mission and against imposs odds, dom...</td>\n",
       "    </tr>\n",
       "    <tr>\n",
       "      <th>4</th>\n",
       "      <td>872585</td>\n",
       "      <td>Oppenheimer</td>\n",
       "      <td>the stori of j. robert oppenheimer’ role in th...</td>\n",
       "    </tr>\n",
       "  </tbody>\n",
       "</table>\n",
       "</div>"
      ],
      "text/plain": [
       "   mov_ser_id                             title  \\\n",
       "0      298618                         The Flash   \n",
       "1      346698                            Barbie   \n",
       "2      667538  Transformers: Rise of the Beasts   \n",
       "3      385687                            Fast X   \n",
       "4      872585                       Oppenheimer   \n",
       "\n",
       "                                                tags  \n",
       "0  when hi attempt to save hi famili inadvert alt...  \n",
       "1  barbi and ken are have the time of their live ...  \n",
       "2  when a new threat capabl of destroy the entir ...  \n",
       "3  over mani mission and against imposs odds, dom...  \n",
       "4  the stori of j. robert oppenheimer’ role in th...  "
      ]
     },
     "execution_count": 45,
     "metadata": {},
     "output_type": "execute_result"
    }
   ],
   "source": [
    "new_df.head()"
   ]
  },
  {
   "cell_type": "code",
   "execution_count": 127,
   "id": "4e1ffdc9-fa64-473a-842e-512d8f5ca221",
   "metadata": {},
   "outputs": [],
   "source": [
    "# after this we are going to convert the tags into vector\n",
    "# for take out the most common words in tags and also to not take the stop words in english\n",
    "# stop words are in english : is, are, a, the, with, for like\n",
    "# so we are going to convert it into 2D and take out most common words\n",
    "# for this we are using sklearn modules CounterVector function"
   ]
  },
  {
   "cell_type": "code",
   "execution_count": 46,
   "id": "a4624bd6-a83f-48e4-9b06-1a2e4fcf6a87",
   "metadata": {},
   "outputs": [],
   "source": [
    "from sklearn.feature_extraction.text import CountVectorizer"
   ]
  },
  {
   "cell_type": "code",
   "execution_count": 47,
   "id": "4d01dbf6-719f-41be-8c9e-8a8d9311f3cd",
   "metadata": {},
   "outputs": [],
   "source": [
    "cv = CountVectorizer(max_features=5000, stop_words='english')"
   ]
  },
  {
   "cell_type": "code",
   "execution_count": 48,
   "id": "bfb229cc-88c5-4aa3-b5a7-f79aef46eb0d",
   "metadata": {},
   "outputs": [],
   "source": [
    "vectors = cv.fit_transform(new_df['tags']).toarray()"
   ]
  },
  {
   "cell_type": "code",
   "execution_count": 49,
   "id": "a7d184b1-65c3-4279-b496-5abb2a8bfd95",
   "metadata": {},
   "outputs": [
    {
     "data": {
      "text/plain": [
       "array([[0, 0, 0, ..., 0, 0, 0],\n",
       "       [0, 0, 0, ..., 0, 0, 0],\n",
       "       [0, 0, 0, ..., 0, 0, 0],\n",
       "       ...,\n",
       "       [0, 0, 0, ..., 0, 0, 0],\n",
       "       [0, 0, 0, ..., 0, 0, 0],\n",
       "       [0, 0, 0, ..., 0, 0, 0]], dtype=int64)"
      ]
     },
     "execution_count": 49,
     "metadata": {},
     "output_type": "execute_result"
    }
   ],
   "source": [
    "vectors"
   ]
  },
  {
   "cell_type": "code",
   "execution_count": 50,
   "id": "facd57d0-c4bd-4371-b483-82c2292eae9a",
   "metadata": {},
   "outputs": [
    {
     "data": {
      "text/plain": [
       "array([0, 0, 0, ..., 0, 0, 0], dtype=int64)"
      ]
     },
     "execution_count": 50,
     "metadata": {},
     "output_type": "execute_result"
    }
   ],
   "source": [
    "vectors[0]"
   ]
  },
  {
   "cell_type": "code",
   "execution_count": 51,
   "id": "9f10ca09-396e-4cfc-9660-da7bdfbf75d2",
   "metadata": {},
   "outputs": [
    {
     "data": {
      "text/plain": [
       "array(['00', '000', '10', '100', '11', '12', '13', '14', '15', '16',\n",
       "       '16th', '17', '18', '18th', '18thcenturi', '19', '1920', '1930',\n",
       "       '1940', '1950', '1958', '1960', '1961', '1962', '1963', '1964',\n",
       "       '1965', '1966', '1967', '1968', '1969', '1970', '1971', '1972',\n",
       "       '1973', '1974', '1975', '1976', '1977', '1978', '1979', '1980',\n",
       "       '1980s', '1981', '1982', '1983', '1984', '1985', '1986', '1987',\n",
       "       '1988', '1989', '1990', '1990s', '1991', '1992', '1993', '1994',\n",
       "       '1995', '1996', '1997', '1998', '1999', '19th', '19thcenturi',\n",
       "       '20', '2000', '2001', '2002', '2003', '2004', '2005', '2006',\n",
       "       '2007', '2008', '2009', '2010', '2011', '2012', '2013', '2014',\n",
       "       '2015', '2016', '2019', '2020', '20th', '21', '21st', '22', '23',\n",
       "       '24', '25', '26', '27', '28', '29', '30', '300', '31', '40', '400',\n",
       "       '45', '50', '500', '60', '70', '80', '90', 'aamirkhan', 'aarti',\n",
       "       'abandon', 'abba', 'abc', 'abduct', 'abhay', 'abhaydeol', 'abhi',\n",
       "       'abhimanyu', 'abhishekbachchan', 'abil', 'abilities',\n",
       "       'abirchatterje', 'abl', 'aboard', 'abov', 'abroad', 'absolut',\n",
       "       'absurd', 'absurdist', 'abus', 'academ', 'academi', 'academy',\n",
       "       'accept', 'access', 'accid', 'accident', 'acclaim', 'accompani',\n",
       "       'accomplish', 'accord', 'account', 'accus', 'ace', 'achiev',\n",
       "       'achyuthkumar', 'acp', 'acquaint', 'acquir', 'act', 'action',\n",
       "       'actionhero', 'activ', 'activist', 'activities', 'actor',\n",
       "       'actress', 'actual', 'ad', 'adam', 'adapt', 'add', 'addict',\n",
       "       'addit', 'address', 'adi', 'aditya', 'adjust', 'admir', 'admit',\n",
       "       'adolesc', 'adopt', 'ador', 'adult', 'adultanim', 'adulteri',\n",
       "       'adulthood', 'adulthumor', 'advanc', 'advantag', 'adventur',\n",
       "       'adventure', 'adventures', 'advertis', 'advic', 'advis', 'advoc',\n",
       "       'ae', 'affair', 'affairs', 'affect', 'affection', 'affluent',\n",
       "       'afford', 'afghanistan', 'afraid', 'africa', 'african',\n",
       "       'aftabshivdasani', 'aftercreditssting', 'afterlif', 'aftermath',\n",
       "       'ag', 'age', 'agenc', 'agency', 'agenda', 'agent', 'ago', 'agre',\n",
       "       'agrees', 'ah', 'ahead', 'ai', 'aid', 'aikayano', 'ail', 'aim',\n",
       "       'air', 'airplan', 'airport', 'aishwarya', 'aishwaryaraibachchan',\n",
       "       'aishwaryarajesh', 'ajay', 'ajaydevgn', 'ajit', 'ajith',\n",
       "       'ajithkumar', 'ajuvarghes', 'aka', 'akarikito', 'akash', 'akira',\n",
       "       'akkineni', 'akshay', 'akshayekhanna', 'akshaykumar', 'al',\n",
       "       'alaska', 'albert', 'alcohol', 'alex', 'ali', 'alia', 'aliabhatt',\n",
       "       'alic', 'alien', 'alieninvas', 'alienplanet', 'aliens', 'alik',\n",
       "       'aliv', 'alive', 'allarinaresh', 'alli', 'allianc', 'allow',\n",
       "       'alluarjun', 'alon', 'alongsid', 'alreadi', 'alter', 'altern',\n",
       "       'alternatedimens', 'alternatehistori', 'alway', 'amalaakkineni',\n",
       "       'amalapaul', 'aman', 'amar', 'amateur', 'amaz', 'ambika', 'ambit',\n",
       "       'ambiti', 'ambition', 'ameeshapatel', 'america', 'american', 'ami',\n",
       "       'amid', 'amidst', 'amikoshimizu', 'amit', 'amitabh',\n",
       "       'amitabhbachchan', 'amnesia', 'amor', 'amp', 'amrishpuri',\n",
       "       'amritasingh', 'amus', 'ana', 'anand', 'ancestr', 'anchor',\n",
       "       'ancient', 'andi', 'andrea', 'andrew', 'android', 'angel',\n",
       "       'angela', 'angeles', 'anger', 'angri', 'angst', 'ani', 'anil',\n",
       "       'anilkapoor', 'anim', 'animals', 'animation', 'anime', 'anita',\n",
       "       'anjali', 'anju', 'ann', 'anna', 'anni', 'anniversari', 'announc',\n",
       "       'annual', 'anonym', 'anoop', 'anoopmenon', 'anoth', 'answer',\n",
       "       'antagonist', 'antholog', 'anthropomorph', 'anti', 'antic',\n",
       "       'antihero', 'antiqu', 'anu', 'anupamkh', 'anuragkashyap',\n",
       "       'anushkashetti', 'anwar', 'anymore', 'anyon', 'anyth', 'aparna',\n",
       "       'apart', 'apartment', 'apocalyps', 'apocalypt', 'apocalypticfutur',\n",
       "       'app', 'appar', 'appear', 'appearance', 'appoint', 'appreci',\n",
       "       'apprehend', 'apprentic', 'approach', 'approv', 'appu', 'april',\n",
       "       'arab', 'aravind', 'arbaazkhan', 'arch', 'archaeologist',\n",
       "       'archana', 'architect', 'architectur', 'area', 'aren', 'arena',\n",
       "       'argentina', 'aris', 'aristocrat', 'arjun', 'arjunramp',\n",
       "       'arjunsarja', 'arm', 'armi', 'armor', 'army', 'arrang',\n",
       "       'arrangedmarriag', 'arrest', 'arrested', 'arriv', 'arrival',\n",
       "       'arrog', 'arshadwarsi', 'art', 'arthur', 'artifact', 'artifici',\n",
       "       'artificialintellig', 'artist', 'artists', 'arts', 'arun', 'arya',\n",
       "       'aryan', 'asadora', 'asamiseto', 'ash', 'asha', 'ashok', 'ashokan',\n",
       "       'ashokkumar', 'asia', 'asifali', 'ask', 'aspect', 'aspir',\n",
       "       'asrani', 'assassin', 'assault', 'assembl', 'assign', 'assist',\n",
       "       'assistant', 'associ', 'assum', 'astrolog', 'astronaut', 'athlet',\n",
       "       'atlanta', 'atmospher', 'attach', 'attack', 'attain', 'attempt',\n",
       "       'attend', 'attent', 'attention', 'attitud', 'attorney', 'attract',\n",
       "       'atulkulkarni', 'audienc', 'audience', 'audit', 'august', 'aunt',\n",
       "       'australia', 'australian', 'austria', 'author', 'autism', 'auto',\n",
       "       'automobil', 'avail', 'aveng', 'averag', 'avinash', 'avoid',\n",
       "       'await', 'awaken', 'awar', 'award', 'awards', 'away', 'awkward',\n",
       "       'awri', 'ayakokawasumi', 'ayanataketatsu', 'ayanesakura',\n",
       "       'ayushmannkhurrana', 'baba', 'babi', 'babu', 'baburaj', 'baby',\n",
       "       'bachchan', 'bachelor', 'backdrop', 'background', 'bad', 'baek',\n",
       "       'bag', 'bahadur', 'bai', 'baker', 'bala', 'balachand',\n",
       "       'balachandramenon', 'balaji', 'balakrishna', 'balan', 'balanc',\n",
       "       'ball', 'balu', 'ban', 'band', 'bandit', 'bangkok', 'banish',\n",
       "       'bank', 'banker', 'banner', 'bar', 'barbera', 'barcelona', 'bare',\n",
       "       'baron', 'bas', 'base', 'basebal', 'basedonchildren', 'basedoncom',\n",
       "       'basedonmanga', 'basedonmovi', 'basedonnovelorbook',\n",
       "       'basedonplayormus', 'basedonshortstori', 'basedontoy',\n",
       "       'basedontruestori', 'basedonvideogam', 'basedonvisualnovel',\n",
       "       'basedonwebcomicorwebtoon', 'basedonyoungadultnovel', 'basic',\n",
       "       'basketbal', 'batman', 'battl', 'battle', 'battlefield', 'bay',\n",
       "       'bbc', 'beach', 'bear', 'beast', 'beat', 'beaten', 'beauti',\n",
       "       'beautiful', 'beauty', 'becam', 'becaus', 'becom', 'bed', 'befor',\n",
       "       'befriend', 'began', 'begin', 'begins', 'begun', 'behav',\n",
       "       'behavior', 'behaviour', 'belgian', 'belief', 'believ', 'bell',\n",
       "       'belong', 'belov', 'ben', 'beneath', 'bengal', 'bengali', 'benni',\n",
       "       'bent', 'berlin', 'besid', 'best', 'bestfriend', 'bet', 'betray',\n",
       "       'betrayal', 'better', 'bhagyaraj', 'bhai', 'bhanu', 'bhanupriya',\n",
       "       'bharat', 'bharathan', 'bharathiraja', 'bharathsrinivasan',\n",
       "       'bhaskar', 'bhavana', 'bhavani', 'bhumikachawla', 'bid', 'big',\n",
       "       'bigfamili', 'bigger', 'biggest', 'biju', 'bijumenon', 'bike',\n",
       "       'billion', 'billionair', 'bin', 'biographi', 'biolog', 'biopic',\n",
       "       'bipashabasu', 'bird', 'birth', 'birthday', 'bishounen', 'bit',\n",
       "       'bite', 'bitter', 'bizarr', 'bl', 'black', 'blackmag', 'blackmail',\n",
       "       'blade', 'blame', 'blast', 'blend', 'bless', 'blind', 'bliss',\n",
       "       'block', 'blockbust', 'blood', 'bloodi', 'blossom', 'blow', 'blue',\n",
       "       'bo', 'board', 'boat', 'bob', 'boban', 'bobbi', 'bobbydeol',\n",
       "       'bobbysimha', 'bodi', 'body', 'bodyguard', 'bold', 'bollywood',\n",
       "       'bomanirani', 'bomb', 'bombay', 'bond', 'book', 'books', 'border',\n",
       "       'bore', 'born', 'borrow', 'bose', 'boss', 'boston', 'bought',\n",
       "       'bound', 'boundari', 'bounti', 'bountyhunt', 'box', 'boxer', 'boy',\n",
       "       'boyfriend', 'boys', 'brahmanandam', 'brahmin', 'brain', 'branch',\n",
       "       'brand', 'brave', 'brazil', 'brazilian', 'break',\n",
       "       'breakingthefourthwal', 'brew', 'brian', 'bribe', 'bride', 'bridg',\n",
       "       'brien', 'bright', 'brilliant', 'bring', 'brink', 'britain',\n",
       "       'british', 'broadcast', 'broke', 'broken', 'broker', 'bromanc',\n",
       "       'brooklyn', 'bros', 'broth', 'brothel', 'brother',\n",
       "       'brotherbrotherrelationship', 'brothers', 'brought', 'brown',\n",
       "       'bruce', 'brutal', 'bu', 'buck', 'bud', 'buddi', 'buddycop',\n",
       "       'build', 'building', 'built', 'bullet', 'bulli', 'bump', 'bunch',\n",
       "       'bungalow', 'bunni', 'burden', 'bureau', 'buri', 'burn', 'busi',\n",
       "       'business', 'businessman', 'businesswoman', 'butler', 'buy',\n",
       "       'byomkesh', 'cabin', 'cabl', 'cafe', 'café', 'cal', 'calcutta',\n",
       "       'california', 'calm', 'came', 'camera', 'camp', 'campaign',\n",
       "       'campu', 'campus', 'canada', 'canadian', 'canal', 'cancel',\n",
       "       'cancer', 'candid', 'capabl', 'capit', 'captain', 'captiv',\n",
       "       'captur', 'car', 'caraccid', 'card', 'care', 'career', 'carefre',\n",
       "       'caretak', 'carlo', 'carolina', 'carri', 'cartel', 'cartoon',\n",
       "       'case', 'cases', 'cash', 'casino', 'cast', 'caste', 'castl', 'cat',\n",
       "       'catastroph', 'catch', 'caught', 'caus', 'cb', 'cbi', 'celebr',\n",
       "       'cell', 'center', 'centr', 'central', 'centuri', 'century', 'ceo',\n",
       "       'ceremoni', 'ceremony', 'certain', 'cgi', 'cha', 'chaebol',\n",
       "       'chagrin', 'chain', 'chakravarthi', 'challeng', 'challenge',\n",
       "       'challenges', 'champion', 'championship', 'chan', 'chanc',\n",
       "       'chance', 'chandra', 'chandramohan', 'chandran', 'chandrasekhar',\n",
       "       'chandru', 'chandu', 'chang', 'change', 'changes', 'channel',\n",
       "       'chao', 'chaos', 'chaotic', 'chapter', 'charact', 'character',\n",
       "       'characters', 'charg', 'charismat', 'charl', 'charli', 'charlie',\n",
       "       'charm', 'chart', 'chase', 'chat', 'chawla', 'cheat', 'check',\n",
       "       'cheer', 'cheerlead', 'chef', 'chembanvinodjos', 'chemic', 'chen',\n",
       "       'cheng', 'chennai', 'cheran', 'chi', 'chicago', 'chief', 'child',\n",
       "       'childabus', 'childhood', 'childhoodfriend', 'childkidnap',\n",
       "       'children', 'china', 'chines', 'chinna', 'chiranjeevi', 'choi',\n",
       "       'choic', 'choice', 'choos', 'chopra', 'chosen', 'chri',\n",
       "       'christian', 'christma', 'chronicl', 'chu', 'chul', 'chun',\n",
       "       'chung', 'church', 'cia', 'cinema', 'circl', 'circu', 'circumst',\n",
       "       'circumstances', 'citi', 'citizen', 'city', 'civil', 'claim',\n",
       "       'clan', 'clark', 'clash', 'class', 'classdiffer', 'classic',\n",
       "       'classmat', 'classmate', 'classmates', 'clean', 'clear', 'clerk',\n",
       "       'clever', 'client', 'climax', 'climb', 'clinic', 'clock', 'clone',\n",
       "       'close', 'closer', 'closest', 'cloth', 'clown', 'club', 'clue',\n",
       "       'clueless', 'clutch', 'coach', 'coast', 'cocain', 'code', 'coffe',\n",
       "       'cohabit', 'coin', 'cold', 'collabor', 'colleagu', 'colleagues',\n",
       "       'collect', 'collector', 'colleg', 'college', 'collid', 'collis',\n",
       "       'colombia', 'colombian', 'colonel', 'coloni', 'color', 'colorado',\n",
       "       'colour', 'com', 'coma', 'combat', 'combin', 'come', 'comed',\n",
       "       'comedi', 'comedian', 'comedy', 'comfort', 'comic', 'coming',\n",
       "       'comingofag', 'command', 'commerci', 'commiss', 'commission',\n",
       "       'commit', 'common', 'commun', 'communist', 'community', 'compani',\n",
       "       'companion', 'company', 'compel', 'compet', 'competit',\n",
       "       'competition', 'competitor', 'complet', 'complex', 'complic',\n",
       "       'compos', 'compris', 'compromis', 'comput', 'conan', 'conceal',\n",
       "       'concept', 'concern', 'concert', 'condit', 'condition', 'condor',\n",
       "       'conduct', 'confess', 'confid', 'confin', 'confirm', 'conflict',\n",
       "       'confront', 'confus', 'conman', 'connect', 'connor', 'conquer',\n",
       "       'consequ', 'consequences', 'conserv', 'consid', 'consist',\n",
       "       'conspir', 'conspiraci', 'conspiracy', 'constabl', 'constant',\n",
       "       'constantli', 'construct', 'consult', 'consum', 'contact',\n",
       "       'contain'], dtype=object)"
      ]
     },
     "execution_count": 51,
     "metadata": {},
     "output_type": "execute_result"
    }
   ],
   "source": [
    "cv.get_feature_names_out()[:1000]"
   ]
  },
  {
   "cell_type": "code",
   "execution_count": 134,
   "id": "baec7d8d-b3d3-457f-bac7-a0ff41dfa419",
   "metadata": {},
   "outputs": [],
   "source": [
    "# here we can see that there are lots of common words like [loving, loved, love] actually three are same with love word\n",
    "# so we need to fix that in our tags for that we are going to use nltk module on the new_df"
   ]
  },
  {
   "cell_type": "code",
   "execution_count": 135,
   "id": "5d229ef2-1c1d-4222-a1d5-cbc971ba018c",
   "metadata": {},
   "outputs": [],
   "source": [
    "#after all this we get 5000 common words in 20000 movies next we need to find the similiarity\n",
    "#for that we are going import similarity function from sklearn"
   ]
  },
  {
   "cell_type": "code",
   "execution_count": 52,
   "id": "0df33b97-67c4-46e8-ab5f-135359d9987b",
   "metadata": {},
   "outputs": [],
   "source": [
    "from sklearn.metrics.pairwise import cosine_similarity"
   ]
  },
  {
   "cell_type": "code",
   "execution_count": 53,
   "id": "1ecbd8bc-f18a-47b9-9d74-8e8f0db54f42",
   "metadata": {},
   "outputs": [],
   "source": [
    "similarity = cosine_similarity(vectors)"
   ]
  },
  {
   "cell_type": "code",
   "execution_count": 54,
   "id": "7d3a7aaa-a6cb-4904-acc8-ab7c24b27c5c",
   "metadata": {},
   "outputs": [
    {
     "data": {
      "text/plain": [
       "array([0.06978632, 1.        , 0.05970814, ..., 0.04747572, 0.        ,\n",
       "       0.03178209])"
      ]
     },
     "execution_count": 54,
     "metadata": {},
     "output_type": "execute_result"
    }
   ],
   "source": [
    "similarity[1]"
   ]
  },
  {
   "cell_type": "code",
   "execution_count": 58,
   "id": "3923bc8b-9928-423a-89bc-46ecb10c85e6",
   "metadata": {},
   "outputs": [],
   "source": [
    "#so we found out the similarity now we want to find the most similar movies we will take only 5 movies now\n",
    "# it your choice to get more for this we are going to write function for that\n",
    "def recommend(movie):\n",
    "    movie_index = new_df[new_df['title'] == movie].index[0]\n",
    "    distances = similarity[movie_index]\n",
    "    movies_list = sorted(list(enumerate(distances)), reverse=True, key=lambda x:x[1])[1:6]\n",
    "\n",
    "    for i in movies_list:\n",
    "        print(new_df.iloc[i[0]].mov_ser_id)"
   ]
  },
  {
   "cell_type": "code",
   "execution_count": 59,
   "id": "3b1b6eca-5c1f-41fc-8558-564af6b705ad",
   "metadata": {},
   "outputs": [
    {
     "data": {
      "text/html": [
       "<div>\n",
       "<style scoped>\n",
       "    .dataframe tbody tr th:only-of-type {\n",
       "        vertical-align: middle;\n",
       "    }\n",
       "\n",
       "    .dataframe tbody tr th {\n",
       "        vertical-align: top;\n",
       "    }\n",
       "\n",
       "    .dataframe thead th {\n",
       "        text-align: right;\n",
       "    }\n",
       "</style>\n",
       "<table border=\"1\" class=\"dataframe\">\n",
       "  <thead>\n",
       "    <tr style=\"text-align: right;\">\n",
       "      <th></th>\n",
       "      <th>mov_ser_id</th>\n",
       "      <th>title</th>\n",
       "      <th>tags</th>\n",
       "    </tr>\n",
       "  </thead>\n",
       "  <tbody>\n",
       "    <tr>\n",
       "      <th>0</th>\n",
       "      <td>298618</td>\n",
       "      <td>The Flash</td>\n",
       "      <td>when hi attempt to save hi famili inadvert alt...</td>\n",
       "    </tr>\n",
       "    <tr>\n",
       "      <th>1</th>\n",
       "      <td>346698</td>\n",
       "      <td>Barbie</td>\n",
       "      <td>barbi and ken are have the time of their live ...</td>\n",
       "    </tr>\n",
       "    <tr>\n",
       "      <th>2</th>\n",
       "      <td>667538</td>\n",
       "      <td>Transformers: Rise of the Beasts</td>\n",
       "      <td>when a new threat capabl of destroy the entir ...</td>\n",
       "    </tr>\n",
       "    <tr>\n",
       "      <th>3</th>\n",
       "      <td>385687</td>\n",
       "      <td>Fast X</td>\n",
       "      <td>over mani mission and against imposs odds, dom...</td>\n",
       "    </tr>\n",
       "    <tr>\n",
       "      <th>4</th>\n",
       "      <td>872585</td>\n",
       "      <td>Oppenheimer</td>\n",
       "      <td>the stori of j. robert oppenheimer’ role in th...</td>\n",
       "    </tr>\n",
       "  </tbody>\n",
       "</table>\n",
       "</div>"
      ],
      "text/plain": [
       "   mov_ser_id                             title  \\\n",
       "0      298618                         The Flash   \n",
       "1      346698                            Barbie   \n",
       "2      667538  Transformers: Rise of the Beasts   \n",
       "3      385687                            Fast X   \n",
       "4      872585                       Oppenheimer   \n",
       "\n",
       "                                                tags  \n",
       "0  when hi attempt to save hi famili inadvert alt...  \n",
       "1  barbi and ken are have the time of their live ...  \n",
       "2  when a new threat capabl of destroy the entir ...  \n",
       "3  over mani mission and against imposs odds, dom...  \n",
       "4  the stori of j. robert oppenheimer’ role in th...  "
      ]
     },
     "execution_count": 59,
     "metadata": {},
     "output_type": "execute_result"
    }
   ],
   "source": [
    "new_df.head()"
   ]
  },
  {
   "cell_type": "code",
   "execution_count": 60,
   "id": "6f0b6513-1957-4b00-877a-ed54b0db403d",
   "metadata": {},
   "outputs": [
    {
     "name": "stdout",
     "output_type": "stream",
     "text": [
      "221399\n",
      "53128\n",
      "203906\n",
      "26313\n",
      "97186\n"
     ]
    }
   ],
   "source": [
    "recommend('Sex Education')"
   ]
  },
  {
   "cell_type": "code",
   "execution_count": 142,
   "id": "adaa971c-18b0-4e84-87b3-f8a6db96db9e",
   "metadata": {},
   "outputs": [],
   "source": [
    "# so we finish our coding here next we are going to convert it into an website "
   ]
  },
  {
   "cell_type": "code",
   "execution_count": 143,
   "id": "216a0d6a-25df-4610-bce8-bff15fc1ed4f",
   "metadata": {},
   "outputs": [],
   "source": [
    "# to use the new_df as our website dataset we are going make it as a pickle dataset"
   ]
  },
  {
   "cell_type": "code",
   "execution_count": 61,
   "id": "e8a232cf-ed2d-4507-9248-17019f5fd541",
   "metadata": {},
   "outputs": [],
   "source": [
    "import pickle"
   ]
  },
  {
   "cell_type": "code",
   "execution_count": 62,
   "id": "0a811ad5-80d4-4724-9149-566135e9bc8b",
   "metadata": {},
   "outputs": [],
   "source": [
    "pickle.dump(new_df, open('movies.pkl', 'wb'))"
   ]
  },
  {
   "cell_type": "code",
   "execution_count": 63,
   "id": "fe3cce78-ee2f-4413-80d0-5ec2e70e7e56",
   "metadata": {},
   "outputs": [],
   "source": [
    "pickle.dump(new_df.to_dict(), open('movies_dict.pkl', 'wb'))"
   ]
  },
  {
   "cell_type": "code",
   "execution_count": 64,
   "id": "f043426d-1a34-48c3-9a96-53882f14134c",
   "metadata": {},
   "outputs": [],
   "source": [
    "pickle.dump(similarity, open('similarity.pkl', 'wb'))"
   ]
  }
 ],
 "metadata": {
  "kernelspec": {
   "display_name": "Python 3 (ipykernel)",
   "language": "python",
   "name": "python3"
  },
  "language_info": {
   "codemirror_mode": {
    "name": "ipython",
    "version": 3
   },
   "file_extension": ".py",
   "mimetype": "text/x-python",
   "name": "python",
   "nbconvert_exporter": "python",
   "pygments_lexer": "ipython3",
   "version": "3.11.5"
  }
 },
 "nbformat": 4,
 "nbformat_minor": 5
}
